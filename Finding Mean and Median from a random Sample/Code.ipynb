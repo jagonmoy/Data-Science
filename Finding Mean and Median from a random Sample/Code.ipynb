import numpy as nmp
import matplotlib.pyplot as plt
roll = [1,2,3,4,5,6,7,8,9,10,11,12,13,14,15,16,17,18,19,20,21,22,23,24,25,26,27,28,29,30,31,32,33,34,35,36,37,38,39,40,41,42,43,44,45,46,47,48,49,50]
marks = [20,21,23,22,25,24,24,22,21,15,28,27,26,27,24,25,28,24,26,28,30,27,28,24,22,14,15,16,7,8,1,0,24,25,26,27,11,15,18,21,23,24,25,26,27,28,29,21,22,23]
mn = nmp.mean(marks)
mn
mdn = nmp.median(marks)
mdn
plt.figure(figsize=(20,10))
plt.scatter(roll,marks)
plt.plot(roll,marks,color = 'blue')
plt.title('Marks \n Median:{0:.3f} \n Mean:{1:.3f}'.format(mdn,mn,size = 30))
l1 = plt.axvline(mdn,color = 'green',label = 'Median value')
l2 = plt.axvline(mn,color = 'red',label = 'Mean value')
plt.xlabel('Rolls')
plt.ylabel('Marks')
plt.legend()
plt.show()
